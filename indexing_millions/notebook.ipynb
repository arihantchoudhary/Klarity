{
 "cells": [
  {
   "cell_type": "markdown",
   "metadata": {},
   "source": [
    "# Steps\n",
    "1. Document Ingestion: Use tools like Apache Tika to extract text from various document formats (DOCX, XLSX, PDF).\n",
    "\n",
    "2. Indexing Method Selection: \n",
    "\n",
    "- Inverted Indexing: Suitable for large datasets and keyword searches.\n",
    "- Latent Semantic Indexing (LSI): Captures semantic relationships, improving recall.\n",
    "- B-Tree Indexing: Ideal for disk-based systems with efficient range queries.\n",
    "- Hash-Based Indexing: Offers fast lookups for exact matches.\n",
    "\n",
    "3. Index Configuration: Define searchable attributes and configure settings before adding documents to optimize performance1.\n",
    "\n",
    "### Example Tools\n",
    "Meilisearch: Efficient for defining searchable attributes and optimizing disk usage.\n",
    "\n",
    "Azure AI Search: Offers robust indexing capabilities with batch processing."
   ]
  },
  {
   "cell_type": "markdown",
   "metadata": {},
   "source": []
  }
 ],
 "metadata": {
  "language_info": {
   "name": "python"
  }
 },
 "nbformat": 4,
 "nbformat_minor": 2
}
